{
 "cells": [
  {
   "cell_type": "markdown",
   "id": "cd8d50a5-08f6-4bb2-9d11-e1ee1bc8239b",
   "metadata": {},
   "source": [
    "# H1 Data Science Tools and Ecosystem"
   ]
  },
  {
   "cell_type": "markdown",
   "id": "88ca144c-db59-45f5-9385-3a68414ff00b",
   "metadata": {},
   "source": [
    "In this notebook, Data Science Tools and Ecosystem are summarized."
   ]
  },
  {
   "cell_type": "markdown",
   "id": "b4331ba9-c1a6-4a0c-b409-553c19189591",
   "metadata": {},
   "source": [
    "Some of the popular languages that Data Scientists use are:\n",
    "1. Python\n",
    "2. R\n",
    "3. SQL\n",
    "4. Scala"
   ]
  },
  {
   "cell_type": "markdown",
   "id": "687db14f-27b2-47f9-94ef-e6db39ccc7c6",
   "metadata": {},
   "source": [
    "Some of the commonly used libraries used by Data Scientists include:\n",
    "1. Pandas\n",
    "2. Matplotlib\n",
    "3. Scikit learn\n",
    "4. NumPy\n",
    "5. Tensorflow"
   ]
  },
  {
   "cell_type": "markdown",
   "id": "2e3bc44a-ac1c-4a07-a3f3-c490d2061338",
   "metadata": {},
   "source": [
    "Data Science Tools.\n",
    "\n",
    "Jupyter notebook\n",
    "\n",
    "RStudio\n",
    "\n",
    "Apache Spark"
   ]
  },
  {
   "cell_type": "markdown",
   "id": "07b47f32-cb03-4ba3-a065-e0b2ee9302e3",
   "metadata": {},
   "source": [
    "### Below are a few examples of evaluating arithmetic expressions in Python"
   ]
  },
  {
   "cell_type": "code",
   "execution_count": 4,
   "id": "d4c235e4-661b-4953-a339-004489658ccd",
   "metadata": {
    "tags": []
   },
   "outputs": [
    {
     "data": {
      "text/plain": [
       "17"
      ]
     },
     "execution_count": 4,
     "metadata": {},
     "output_type": "execute_result"
    }
   ],
   "source": [
    "# This a simple arithmetic expression to mutiply then add integers.\n",
    "\n",
    "(3*4)+5"
   ]
  },
  {
   "cell_type": "code",
   "execution_count": 6,
   "id": "79546414-05a7-43c6-9c18-db316eeec168",
   "metadata": {
    "tags": []
   },
   "outputs": [
    {
     "data": {
      "text/plain": [
       "3.3333333333333335"
      ]
     },
     "execution_count": 6,
     "metadata": {},
     "output_type": "execute_result"
    }
   ],
   "source": [
    "#  This will convert 200 minutes to hours by diving by 60\n",
    "(200/60)"
   ]
  },
  {
   "cell_type": "markdown",
   "id": "22964141-e643-4e5d-a299-a77121aa24dd",
   "metadata": {},
   "source": [
    "**Objectives:**\n",
    "* List popular languages for Data Science\n",
    "* List popular libraries for Data Science\n",
    "* Evaluating Arithmetic operations in Python"
   ]
  },
  {
   "cell_type": "markdown",
   "id": "e27b5c1b-e9e9-4221-b729-ce3640aba914",
   "metadata": {},
   "source": [
    "## Author\n",
    "Navkaran Singh"
   ]
  }
 ],
 "metadata": {
  "kernelspec": {
   "display_name": "Python",
   "language": "python",
   "name": "conda-env-python-py"
  },
  "language_info": {
   "codemirror_mode": {
    "name": "ipython",
    "version": 3
   },
   "file_extension": ".py",
   "mimetype": "text/x-python",
   "name": "python",
   "nbconvert_exporter": "python",
   "pygments_lexer": "ipython3",
   "version": "3.7.12"
  }
 },
 "nbformat": 4,
 "nbformat_minor": 5
}
